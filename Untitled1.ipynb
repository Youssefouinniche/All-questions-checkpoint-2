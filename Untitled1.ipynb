{
  "nbformat": 4,
  "nbformat_minor": 0,
  "metadata": {
    "colab": {
      "name": "Untitled1.ipynb",
      "provenance": [],
      "collapsed_sections": []
    },
    "kernelspec": {
      "name": "python3",
      "display_name": "Python 3"
    },
    "language_info": {
      "name": "python"
    }
  },
  "cells": [
    {
      "cell_type": "code",
      "metadata": {
        "colab": {
          "base_uri": "https://localhost:8080/"
        },
        "id": "TL9CelLvRsMO",
        "outputId": "994f044f-debf-456f-bcf7-97c088add559"
      },
      "source": [
        "#question 1\n",
        "\n",
        "a = input(\"Donner votre  nom : \")\n",
        "b = input(\"Donner votre prénom :\")\n",
        "z = \" \"\n",
        "print(b+z+a)\n",
        "\n",
        "#question 2\n",
        "\n",
        "n =int(input())\n",
        "c=str(n)\n",
        "p = c\n",
        "f= c+c\n",
        "a=c+c+c\n",
        "print(int(p)+int(f)+int(a))\n",
        "\n",
        "#question 3\n",
        "\n",
        "n = int(input(\"Donner n : \"))\n",
        "if n %2 == 0 : \n",
        "  print(\"n est paire\")\n",
        "else : print(\"n est impaire\")\n",
        "\n",
        "#question 4\n",
        "\n",
        "n = [0,5,10,15,20,25,30,35,40,45,50]\n",
        "for i in range(2000,3201) :\n",
        "  if i%7==0 and i!=n :\n",
        "    print(i,end=\" \")\n",
        "\n",
        "#question 5\n",
        "\n",
        "n = int(input(\"Donner n : \"))\n",
        "k = 1\n",
        "for i in range(1,n+1) :\n",
        "  k=k*i\n",
        "print(k)\n",
        "\n",
        "#question 6\n",
        "\n",
        "n = input()\n",
        "c = len(n)\n",
        "k = \"\"\n",
        "for i in range(c) :\n",
        "  if i%2==1 : \n",
        "    k = k + n[i]\n",
        "print(k)\n",
        "\n",
        "#question 7\n",
        "\n",
        "n = int(input(\"Donner n : \"))\n",
        "p = 0\n",
        "if n > 500 :\n",
        "  p = n*0.5\n",
        "  print(p)\n",
        "elif 200<n>500 : \n",
        "  p = n * 0.7\n",
        "  print(p)\n",
        "else : p = n*0.9\n",
        "  print(p)\n",
        "  \n"
      ],
      "execution_count": 54,
      "outputs": [
        {
          "output_type": "stream",
          "text": [
            "Donner votre  nom : ouinniche\n",
            "Donner votre prénom :youssef\n",
            "youssef ouinniche\n"
          ],
          "name": "stdout"
        }
      ]
    }
  ]
}